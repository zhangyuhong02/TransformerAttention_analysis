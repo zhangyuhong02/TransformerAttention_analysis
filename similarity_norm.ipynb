{
 "cells": [
  {
   "cell_type": "code",
   "execution_count": 1,
   "id": "fce8f3f2",
   "metadata": {},
   "outputs": [],
   "source": [
    "import matplotlib.pyplot as plt\n",
    "import torch\n",
    "from torch.nn import functional as F \n",
    "import seaborn as sns\n",
    "import numpy as np\n",
    "import json\n",
    "from tqdm import tqdm\n",
    "from skimage.metrics import structural_similarity as ssim\n",
    "from PIL import Image\n",
    "import numpy as np\n",
    "import os"
   ]
  },
  {
   "cell_type": "markdown",
   "id": "673c8861",
   "metadata": {},
   "source": [
    "## Function"
   ]
  },
  {
   "cell_type": "code",
   "execution_count": 2,
   "id": "05d590ce",
   "metadata": {},
   "outputs": [],
   "source": [
    "def ElayerAvg(layer):\n",
    "    '''\n",
    "        calculate the ising energy in a tensor\n",
    "    '''\n",
    "    \n",
    "    filters=torch.tensor([[0,1,0],[1,0,1],[0,1,0]]).float().to('cuda').reshape(1,1,3,3)\n",
    "    layerF=layer.float().to('cuda')\n",
    "    layerShape=layerF.shape\n",
    "    layerF=layerF.reshape(1,1,*layerShape)\n",
    "    elayer=F.conv2d(layerF,filters,padding=0)\n",
    "    layerF=layerF.reshape(*layerShape)\n",
    "    elayer=elayer.squeeze(0).squeeze(0)\n",
    "    return -(elayer*layerF[1:-1,1:-1]).mean()\n",
    "\n",
    "def ensure_divisibility(numerator, denominator):\n",
    "    \"\"\"Ensure that numerator is divisible by the denominator.\"\"\"\n",
    "    assert numerator % denominator == 0, '{} is not divisible by {}'.format(\n",
    "        numerator, denominator)\n",
    "    \n",
    "def divide(numerator, denominator):\n",
    "    \"\"\"Ensure that numerator is divisible by the denominator and return\n",
    "    the division value.\"\"\"\n",
    "    ensure_divisibility(numerator, denominator)\n",
    "    return numerator // denominator\n",
    "\n",
    "def split_tensor_along_last_dim(tensor, num_partitions,\n",
    "                                contiguous_split_chunks=False):\n",
    "    \"\"\"Split a tensor along its last dimension.\n",
    "    Arguments:\n",
    "        tensor: input tensor.\n",
    "        num_partitions: number of partitions to split the tensor\n",
    "        contiguous_split_chunks: If True, make each chunk contiguous\n",
    "                                 in memory.\n",
    "    \"\"\"\n",
    "    # Get the size and dimension.\n",
    "    last_dim = tensor.dim() - 1\n",
    "    last_dim_size = divide(tensor.size()[last_dim], num_partitions) # 得到每个切分的size\n",
    "    # Split.\n",
    "    tensor_list = torch.split(tensor, last_dim_size, dim=last_dim) # 对张量进行切分\n",
    "    # Note: torch.split does not create contiguous tensors by default.\n",
    "    if contiguous_split_chunks:\n",
    "        return tuple(chunk.contiguous() for chunk in tensor_list)\n",
    "\n",
    "    return tensor_list\n",
    "\n",
    "def calculateEnergyMat(model,n_heads,weightName):\n",
    "    '''\n",
    "        calculate Energy Mat in a LLM model\n",
    "    Arguments:\n",
    "        model: input LLM model dict.\n",
    "        n_heads: the n_heads in attention module in model\n",
    "        weightName(str) : the weight name to calculate option: wq,wk,wv,wo\n",
    "    '''\n",
    "    Energy_Mat = []\n",
    "    for i in range(n_heads):\n",
    "        cur_layer_W_q = model[\"layers.{}.attention.{}.weight\".format(str(i),weightName)]\n",
    "        cur_heads = split_tensor_along_last_dim(cur_layer_W_q, n_heads)\n",
    "\n",
    "        cur_energy = map(ElayerAvg ,list(cur_heads))\n",
    "        Energy_Mat.append(list(cur_energy))\n",
    "    return torch.tensor(Energy_Mat)\n",
    "\n",
    "def Elayer(layer):\n",
    "    filters=torch.tensor([[0,1,0],[1,0,1],[0,1,0]]).float().to('cuda').reshape(1,1,3,3)\n",
    "    layerF=layer.float().to('cuda')\n",
    "    layerShape=layerF.shape\n",
    "    layerF=layerF.reshape(1,1,*layerShape)\n",
    "    elayer=F.conv2d(layerF,filters,padding=0)\n",
    "    layerF=layerF.reshape(*layerShape)\n",
    "    elayer=elayer.squeeze(0).squeeze(0)\n",
    "    return -(elayer*layerF[1:-1,1:-1])\n",
    "\n",
    "def avg_pool2attention(single_head, kernel_size):\n",
    "    layershape = single_head.shape\n",
    "    single_head=single_head.float().to('cuda')\n",
    "    single_head=single_head.reshape(1,1,*layershape)\n",
    "    out = F.avg_pool2d(single_head, kernel_size, ceil_mode=True)\n",
    "    out=out.squeeze(0).squeeze(0)\n",
    "    return out\n",
    "\n",
    "def calculateEnergyMat_65B(model,n_layers,n_heads,weightName):\n",
    "    Energy_Mat = []\n",
    "    for i in range(n_layers):\n",
    "        cur_layer_W_q = model[\"layers.{}.attention.{}.weight\".format(str(i),weightName)]\n",
    "        cur_heads = split_tensor_along_last_dim(cur_layer_W_q, n_heads)\n",
    "        cur_energy = map(ElayerAvg ,list(cur_heads))\n",
    "        Energy_Mat.append(list(cur_energy))\n",
    "    return torch.tensor(Energy_Mat)"
   ]
  },
  {
   "cell_type": "markdown",
   "id": "d6a4dfb6",
   "metadata": {},
   "source": [
    "## compared similarity"
   ]
  },
  {
   "cell_type": "code",
   "execution_count": 4,
   "id": "b5e4ba18",
   "metadata": {},
   "outputs": [],
   "source": [
    "def calc_ssim(img1, img2):  \n",
    "    '''\n",
    "    SSIM结构相似性比较\n",
    "    '''\n",
    "    img1, img2 = np.array(img1), np.array(img2)\n",
    "    # 此处因为转换为灰度值之后的图像范围是0-255，所以data_range为255，如果转化为浮点数，且是0-1的范围，则data_range应为1\n",
    "    ssim_score = ssim(img1, img2, data_range=255)\n",
    "    return ssim_score\n",
    "\n",
    "def KL(energy_map,energy_single_head):\n",
    "    return F.kl_div(energy_single_head.view(-1).softmax(dim=-1).log().cpu(), energy_map[:-1,:-1].contiguous().view(-1).softmax(dim=-1).cpu(), reduction='sum')\n",
    "\n",
    "def corrlation(a,b):\n",
    "    corr=torch.stack([a.view(-1).cpu(), b.view(-1).cpu()],axis = 0)\n",
    "    corr=torch.corrcoef(corr)\n",
    "    return corr[0,1]"
   ]
  },
  {
   "cell_type": "code",
   "execution_count": 6,
   "id": "79d5ae4c",
   "metadata": {},
   "outputs": [],
   "source": [
    "path='/data/shhliu19/wonder/llama/65B'\n",
    "\n",
    "kernel_size = (13, 2)\n",
    "with open(path+'/params.json', 'r') as f:\n",
    "    params = json.load(f)\n",
    "n_heads=params['n_heads']\n",
    "n_layers=params['n_layers']\n",
    "model=torch.load(path+'/consolidated.00.pth')\n",
    "energy_map_wv = calculateEnergyMat_65B(model,n_layers,n_heads,\"wv\")\n",
    "cur_layer_W_q = model[\"layers.0.attention.wv.weight\"]\n",
    "cur_heads = split_tensor_along_last_dim(cur_layer_W_q, n_heads)\n",
    "Single_head_Energy_map = Elayer(list(cur_heads)[0])\n",
    "out = avg_pool2attention(Single_head_Energy_map, kernel_size)\n",
    "KL(energy_map,out)"
   ]
  },
  {
   "cell_type": "code",
   "execution_count": 13,
   "id": "d87f6cd0",
   "metadata": {},
   "outputs": [
    {
     "data": {
      "text/plain": [
       "tensor(0.6704)"
      ]
     },
     "execution_count": 13,
     "metadata": {},
     "output_type": "execute_result"
    }
   ],
   "source": [
    "corrlation(model[\"layers.0.attention.wq.weight\"].float(),model[\"layers.0.attention.wk.weight\"].float())"
   ]
  },
  {
   "cell_type": "code",
   "execution_count": 16,
   "id": "cf8ab5d7",
   "metadata": {},
   "outputs": [
    {
     "data": {
      "text/plain": [
       "tensor(0.0270)"
      ]
     },
     "execution_count": 16,
     "metadata": {},
     "output_type": "execute_result"
    }
   ],
   "source": [
    "corrlation(energy_map[:-1,:-1].contiguous(),out)"
   ]
  },
  {
   "cell_type": "code",
   "execution_count": 17,
   "id": "775d77f9",
   "metadata": {},
   "outputs": [
    {
     "data": {
      "text/plain": [
       "tensor(0.5664)"
      ]
     },
     "execution_count": 17,
     "metadata": {},
     "output_type": "execute_result"
    }
   ],
   "source": [
    "energy_map_wq = calculateEnergyMat_65B(model,n_layers,n_heads,\"wq\")\n",
    "energy_map_wk = calculateEnergyMat_65B(model,n_layers,n_heads,\"wk\")\n",
    "\n",
    "corrlation(energy_map_wk,energy_map_wq)"
   ]
  },
  {
   "cell_type": "code",
   "execution_count": null,
   "id": "e9927251",
   "metadata": {},
   "outputs": [],
   "source": [
    " "
   ]
  }
 ],
 "metadata": {
  "kernelspec": {
   "display_name": "Python 3 (ipykernel)",
   "language": "python",
   "name": "python3"
  },
  "language_info": {
   "codemirror_mode": {
    "name": "ipython",
    "version": 3
   },
   "file_extension": ".py",
   "mimetype": "text/x-python",
   "name": "python",
   "nbconvert_exporter": "python",
   "pygments_lexer": "ipython3",
   "version": "3.8.16"
  }
 },
 "nbformat": 4,
 "nbformat_minor": 5
}
