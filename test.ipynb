{
 "cells": [
  {
   "cell_type": "code",
   "execution_count": 1,
   "id": "7ab47edf",
   "metadata": {},
   "outputs": [],
   "source": [
    "import matplotlib.pyplot as plt\n",
    "import torch\n",
    "model=torch.load('/data/shhliu19/wonder/llama/7B/consolidated.00.pth')"
   ]
  },
  {
   "cell_type": "code",
   "execution_count": 2,
   "id": "585b1864",
   "metadata": {},
   "outputs": [
    {
     "name": "stdout",
     "output_type": "stream",
     "text": [
      "layers.0.attention.wq.weight\n",
      "layers.0.attention.wk.weight\n",
      "layers.0.attention.wv.weight\n",
      "layers.0.attention.wo.weight\n",
      "layers.0.feed_forward.w1.weight\n",
      "layers.0.feed_forward.w2.weight\n",
      "layers.0.feed_forward.w3.weight\n",
      "layers.0.attention_norm.weight\n",
      "layers.0.ffn_norm.weight\n",
      "layers.0.attention.inner_attention.rope.freqs\n"
     ]
    }
   ],
   "source": [
    "for key in model.keys():\n",
    "    if key.startswith('layers.0'):\n",
    "        print(key)"
   ]
  },
  {
   "cell_type": "code",
   "execution_count": 3,
   "id": "903d54a5",
   "metadata": {},
   "outputs": [
    {
     "data": {
      "text/plain": [
       "(tensor(-0.7451, dtype=torch.float16),\n",
       " tensor(-0., dtype=torch.float16),\n",
       " tensor(0.7930, dtype=torch.float16))"
      ]
     },
     "execution_count": 3,
     "metadata": {},
     "output_type": "execute_result"
    }
   ],
   "source": [
    "layer0wq=model['layers.0.attention.wq.weight']\n",
    "layer0wq.min(),layer0wq.mean(),layer0wq.max()"
   ]
  },
  {
   "cell_type": "code",
   "execution_count": 4,
   "id": "ae0c0799",
   "metadata": {},
   "outputs": [
    {
     "data": {
      "text/plain": [
       "tensor(-59.3750, dtype=torch.float16)"
      ]
     },
     "execution_count": 4,
     "metadata": {},
     "output_type": "execute_result"
    }
   ],
   "source": [
    "layer0wq.sum()"
   ]
  },
  {
   "cell_type": "code",
   "execution_count": 5,
   "id": "975485ee",
   "metadata": {},
   "outputs": [
    {
     "data": {
      "text/plain": [
       "(tensor(-0.5132, dtype=torch.float16),\n",
       " tensor(0., dtype=torch.float16),\n",
       " tensor(0.5312, dtype=torch.float16))"
      ]
     },
     "execution_count": 5,
     "metadata": {},
     "output_type": "execute_result"
    }
   ],
   "source": [
    "layer0wo=model['layers.0.attention.wo.weight']\n",
    "layer0wo.min(),layer0wo.mean(),layer0wo.max()"
   ]
  },
  {
   "cell_type": "code",
   "execution_count": null,
   "id": "172dc6fb",
   "metadata": {},
   "outputs": [],
   "source": []
  },
  {
   "cell_type": "code",
   "execution_count": 10,
   "id": "8b872b7b",
   "metadata": {},
   "outputs": [
    {
     "data": {
      "text/plain": [
       "(tensor(-1.0459, dtype=torch.float16),\n",
       " tensor(-0., dtype=torch.float16),\n",
       " tensor(1.1553, dtype=torch.float16))"
      ]
     },
     "execution_count": 10,
     "metadata": {},
     "output_type": "execute_result"
    }
   ],
   "source": [
    "layer0wk=model['layers.0.attention.wk.weight']\n",
    "layer0wk.min(),layer0wk.mean(),layer0wk.max()"
   ]
  },
  {
   "cell_type": "code",
   "execution_count": 27,
   "id": "6da99066",
   "metadata": {},
   "outputs": [
    {
     "data": {
      "text/plain": [
       "(tensor(-0.1781, dtype=torch.float16),\n",
       " tensor(0., dtype=torch.float16),\n",
       " tensor(0.1470, dtype=torch.float16))"
      ]
     },
     "execution_count": 27,
     "metadata": {},
     "output_type": "execute_result"
    }
   ],
   "source": [
    "na='layers.30.attention.wv.weight'\n",
    "model[na].min(),model[na].mean(),model[na].max(),"
   ]
  },
  {
   "cell_type": "code",
   "execution_count": null,
   "id": "a1acdebe",
   "metadata": {},
   "outputs": [],
   "source": []
  }
 ],
 "metadata": {
  "kernelspec": {
   "display_name": "Python 3 (ipykernel)",
   "language": "python",
   "name": "python3"
  },
  "language_info": {
   "codemirror_mode": {
    "name": "ipython",
    "version": 3
   },
   "file_extension": ".py",
   "mimetype": "text/x-python",
   "name": "python",
   "nbconvert_exporter": "python",
   "pygments_lexer": "ipython3",
   "version": "3.8.16"
  }
 },
 "nbformat": 4,
 "nbformat_minor": 5
}
