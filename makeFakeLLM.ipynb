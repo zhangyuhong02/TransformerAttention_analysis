{
 "cells": [
  {
   "cell_type": "code",
   "execution_count": 1,
   "id": "09b5ad6c",
   "metadata": {},
   "outputs": [],
   "source": [
    "import torch"
   ]
  },
  {
   "cell_type": "code",
   "execution_count": 2,
   "id": "d249187b",
   "metadata": {},
   "outputs": [],
   "source": [
    "modelFake={}\n",
    "for layer in range(80):\n",
    "    modelFake[f'layers.{layer}.attention.wq.weight']=torch.randn(1024,8192)*0.1\n",
    "    modelFake[f'layers.{layer}.attention.wk.weight']=torch.randn(1024,8192)*0.1\n",
    "    modelFake[f'layers.{layer}.attention.wv.weight']=torch.randn(1024,8192)*0.1    \n",
    "    modelFake[f'layers.{layer}.attention.wo.weight']=torch.randn(1024,8192)*0.1\n",
    "    \n",
    "torch.save(modelFake,'consolidated.00.pth.fake')"
   ]
  },
  {
   "cell_type": "code",
   "execution_count": 3,
   "id": "9c74a70c",
   "metadata": {},
   "outputs": [],
   "source": [
    "a=torch.load('consolidated.00.pth.fake')"
   ]
  },
  {
   "cell_type": "code",
   "execution_count": null,
   "id": "d8f9bd9d",
   "metadata": {},
   "outputs": [],
   "source": []
  }
 ],
 "metadata": {
  "kernelspec": {
   "display_name": "Python 3 (ipykernel)",
   "language": "python",
   "name": "python3"
  },
  "language_info": {
   "codemirror_mode": {
    "name": "ipython",
    "version": 3
   },
   "file_extension": ".py",
   "mimetype": "text/x-python",
   "name": "python",
   "nbconvert_exporter": "python",
   "pygments_lexer": "ipython3",
   "version": "3.8.16"
  }
 },
 "nbformat": 4,
 "nbformat_minor": 5
}
